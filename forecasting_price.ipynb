{
 "cells": [
  {
   "cell_type": "code",
   "execution_count": null,
   "metadata": {},
   "outputs": [],
   "source": [
    "# libraries\n",
    "import pandas as pd\n",
    "import numpy as np\n",
    "\n",
    "\n",
    "from sklearn.model_selection import train_test_split\n",
    "from sklearn.preprocessing import StandardScaler\n",
    "from sklearn.preprocessing import LabelEncoder\n",
    "from sklearn.preprocessing import OneHotEncoder\n",
    "from sklearn.pipeline import make_pipeline\n",
    "from sklearn.metrics import mean_absolute_error, mean_squared_error, r2_score\n",
    "\n",
    "#!pip install category_encoders\n",
    "import category_encoders as ce\n",
    "from category_encoders import TargetEncoder\n",
    "\n",
    "\n"
   ]
  },
  {
   "cell_type": "code",
   "execution_count": null,
   "metadata": {},
   "outputs": [],
   "source": [
    "# reading file\n",
    "df = pd.read_csv('/workspaces/forecasting/data/data.csv')\n",
    "df.head()"
   ]
  },
  {
   "cell_type": "code",
   "execution_count": null,
   "metadata": {},
   "outputs": [],
   "source": [
    "# removing outlier\n",
    "df = df[df['SALES PER KG'] <= 35000]\n",
    "\n",
    "# removing 'total sales' column\n",
    "df = df.drop('TOTAL SALES', axis = 1)\n",
    "\n",
    "# creating bins for prediction\n",
    "\n",
    "# using sturges to print out the number of bins\n",
    "sturges = int(np.ceil(1 + np.log2(len(df['SALES PER KG']))))\n",
    "print(sturges)\n",
    "\n",
    "max_value = 35000\n",
    "bin_width = int((max_value - 0) // sturges)\n",
    "\n",
    "'''# Correctly calculate 'bin_edges'\n",
    "# Ensure 'bin_width' is added to 'max_value' to include the upper edge\n",
    "bin_edges = np.arange(0, max_value + bin_width, bin_width)\n",
    "\n",
    "# Use pd.cut to bin the data\n",
    "df['price_bin'] = pd.cut(df['SALES PER KG'], bins=bin_edges, labels=False, right=False)\n",
    "\n",
    "# Add 1 to change bins from 0-19 to 1-20\n",
    "df['price_bin'] += 1\n",
    "\n",
    "# Display the first few rows to verify\n",
    "print(df.head())\n",
    "\n",
    "# dropping sales per kg column as we already have price_bin\n",
    "df = df.drop('SALES PER KG', axis = 1)'''\n"
   ]
  },
  {
   "cell_type": "code",
   "execution_count": null,
   "metadata": {},
   "outputs": [],
   "source": [
    "# extracting year and month from date column for seasonality trends\n",
    "df['DAY_DATE'] = pd.to_datetime(df['DAY_DATE'], errors='coerce').dt.normalize()\n",
    "df['YEAR'] = df['DAY_DATE'].dt.year\n",
    "df['MONTH'] = df['DAY_DATE'].dt.month\n",
    "df['DAY'] = df['DAY_DATE'].dt.day\n",
    "df = df.drop('DAY_DATE', axis = 1)\n"
   ]
  },
  {
   "cell_type": "code",
   "execution_count": null,
   "metadata": {},
   "outputs": [],
   "source": [
    "# train test split before label encoding to prevent data leakage\n",
    "\n",
    "\n",
    "X = df.drop('price_bin', axis=1)\n",
    "y = df['price_bin']\n",
    "X_train, X_test, y_train, y_test = train_test_split(X, y, test_size=0.2, random_state=42)\n",
    "\n",
    "# scaling numerical variable\n",
    "\n",
    "scaler = StandardScaler()\n",
    "columns_to_scale = ['KG', 'TAILS']\n",
    "X_train[columns_to_scale] = scaler.fit_transform(X_train[columns_to_scale])\n",
    "X_test[columns_to_scale] = scaler.transform(X_test[columns_to_scale])"
   ]
  }
 ],
 "metadata": {
  "language_info": {
   "name": "python"
  }
 },
 "nbformat": 4,
 "nbformat_minor": 2
}
