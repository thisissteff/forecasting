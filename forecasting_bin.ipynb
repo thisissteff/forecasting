{
 "cells": [
  {
   "cell_type": "markdown",
   "metadata": {},
   "source": [
    "# forecasting selling price of chicken with Bins"
   ]
  },
  {
   "cell_type": "code",
   "execution_count": 3,
   "metadata": {},
   "outputs": [
    {
     "name": "stdout",
     "output_type": "stream",
     "text": [
      "Requirement already satisfied: category_encoders in /usr/local/python/3.10.13/lib/python3.10/site-packages (2.6.3)\n",
      "Requirement already satisfied: numpy>=1.14.0 in /home/codespace/.local/lib/python3.10/site-packages (from category_encoders) (1.26.4)\n",
      "Requirement already satisfied: scikit-learn>=0.20.0 in /usr/local/python/3.10.13/lib/python3.10/site-packages (from category_encoders) (1.4.1.post1)\n",
      "Requirement already satisfied: scipy>=1.0.0 in /home/codespace/.local/lib/python3.10/site-packages (from category_encoders) (1.12.0)\n",
      "Requirement already satisfied: statsmodels>=0.9.0 in /usr/local/python/3.10.13/lib/python3.10/site-packages (from category_encoders) (0.14.1)\n",
      "Requirement already satisfied: pandas>=1.0.5 in /home/codespace/.local/lib/python3.10/site-packages (from category_encoders) (2.2.0)\n",
      "Requirement already satisfied: patsy>=0.5.1 in /usr/local/python/3.10.13/lib/python3.10/site-packages (from category_encoders) (0.5.6)\n",
      "Requirement already satisfied: python-dateutil>=2.8.2 in /home/codespace/.local/lib/python3.10/site-packages (from pandas>=1.0.5->category_encoders) (2.8.2)\n",
      "Requirement already satisfied: pytz>=2020.1 in /home/codespace/.local/lib/python3.10/site-packages (from pandas>=1.0.5->category_encoders) (2024.1)\n",
      "Requirement already satisfied: tzdata>=2022.7 in /home/codespace/.local/lib/python3.10/site-packages (from pandas>=1.0.5->category_encoders) (2023.4)\n",
      "Requirement already satisfied: six in /home/codespace/.local/lib/python3.10/site-packages (from patsy>=0.5.1->category_encoders) (1.16.0)\n",
      "Requirement already satisfied: joblib>=1.2.0 in /home/codespace/.local/lib/python3.10/site-packages (from scikit-learn>=0.20.0->category_encoders) (1.3.2)\n",
      "Requirement already satisfied: threadpoolctl>=2.0.0 in /home/codespace/.local/lib/python3.10/site-packages (from scikit-learn>=0.20.0->category_encoders) (3.2.0)\n",
      "Requirement already satisfied: packaging>=21.3 in /home/codespace/.local/lib/python3.10/site-packages (from statsmodels>=0.9.0->category_encoders) (23.2)\n"
     ]
    }
   ],
   "source": [
    "# libraries\n",
    "import pandas as pd\n",
    "import numpy as np\n",
    "\n",
    "\n",
    "from sklearn.model_selection import train_test_split\n",
    "from sklearn.preprocessing import StandardScaler\n",
    "from sklearn.preprocessing import LabelEncoder\n",
    "from sklearn.preprocessing import OneHotEncoder\n",
    "from sklearn.pipeline import make_pipeline\n",
    "from sklearn.metrics import mean_absolute_error, mean_squared_error, r2_score\n",
    "\n",
    "!pip install category_encoders\n",
    "import category_encoders as ce\n",
    "from category_encoders import TargetEncoder\n",
    "\n",
    "\n"
   ]
  },
  {
   "cell_type": "code",
   "execution_count": 4,
   "metadata": {},
   "outputs": [
    {
     "data": {
      "text/html": [
       "<div>\n",
       "<style scoped>\n",
       "    .dataframe tbody tr th:only-of-type {\n",
       "        vertical-align: middle;\n",
       "    }\n",
       "\n",
       "    .dataframe tbody tr th {\n",
       "        vertical-align: top;\n",
       "    }\n",
       "\n",
       "    .dataframe thead th {\n",
       "        text-align: right;\n",
       "    }\n",
       "</style>\n",
       "<table border=\"1\" class=\"dataframe\">\n",
       "  <thead>\n",
       "    <tr style=\"text-align: right;\">\n",
       "      <th></th>\n",
       "      <th>DAY_DATE</th>\n",
       "      <th>UNIT</th>\n",
       "      <th>TAILS</th>\n",
       "      <th>KG</th>\n",
       "      <th>SALES PER KG</th>\n",
       "      <th>TOTAL SALES</th>\n",
       "      <th>ABW</th>\n",
       "      <th>CHICKEN SIZE</th>\n",
       "      <th>PROVINCE</th>\n",
       "    </tr>\n",
       "  </thead>\n",
       "  <tbody>\n",
       "    <tr>\n",
       "      <th>0</th>\n",
       "      <td>2017-01-01</td>\n",
       "      <td>LOMBOK</td>\n",
       "      <td>6237</td>\n",
       "      <td>11356.5</td>\n",
       "      <td>22000.00000</td>\n",
       "      <td>249843000</td>\n",
       "      <td>1.820827</td>\n",
       "      <td>MEDIUM</td>\n",
       "      <td>NUSA TENGGARA BARAT</td>\n",
       "    </tr>\n",
       "    <tr>\n",
       "      <th>1</th>\n",
       "      <td>2017-01-01</td>\n",
       "      <td>GARUT</td>\n",
       "      <td>2625</td>\n",
       "      <td>5446.8</td>\n",
       "      <td>17000.00000</td>\n",
       "      <td>92595600</td>\n",
       "      <td>2.074971</td>\n",
       "      <td>LARGE</td>\n",
       "      <td>JAWA BARAT</td>\n",
       "    </tr>\n",
       "    <tr>\n",
       "      <th>2</th>\n",
       "      <td>2017-01-01</td>\n",
       "      <td>SUMEDANG</td>\n",
       "      <td>7788</td>\n",
       "      <td>14176.8</td>\n",
       "      <td>16106.05355</td>\n",
       "      <td>228332300</td>\n",
       "      <td>1.820339</td>\n",
       "      <td>MEDIUM</td>\n",
       "      <td>JAWA BARAT</td>\n",
       "    </tr>\n",
       "    <tr>\n",
       "      <th>3</th>\n",
       "      <td>2017-01-01</td>\n",
       "      <td>CIREBON</td>\n",
       "      <td>7504</td>\n",
       "      <td>15958.0</td>\n",
       "      <td>17000.00000</td>\n",
       "      <td>271286000</td>\n",
       "      <td>2.126599</td>\n",
       "      <td>LARGE</td>\n",
       "      <td>JAWA BARAT</td>\n",
       "    </tr>\n",
       "    <tr>\n",
       "      <th>4</th>\n",
       "      <td>2017-01-01</td>\n",
       "      <td>PEKALONGAN</td>\n",
       "      <td>9121</td>\n",
       "      <td>16250.0</td>\n",
       "      <td>16500.00000</td>\n",
       "      <td>268125000</td>\n",
       "      <td>1.781603</td>\n",
       "      <td>MEDIUM</td>\n",
       "      <td>JAWA TENGAH</td>\n",
       "    </tr>\n",
       "  </tbody>\n",
       "</table>\n",
       "</div>"
      ],
      "text/plain": [
       "     DAY_DATE        UNIT  TAILS       KG  SALES PER KG  TOTAL SALES  \\\n",
       "0  2017-01-01      LOMBOK   6237  11356.5   22000.00000    249843000   \n",
       "1  2017-01-01       GARUT   2625   5446.8   17000.00000     92595600   \n",
       "2  2017-01-01    SUMEDANG   7788  14176.8   16106.05355    228332300   \n",
       "3  2017-01-01     CIREBON   7504  15958.0   17000.00000    271286000   \n",
       "4  2017-01-01  PEKALONGAN   9121  16250.0   16500.00000    268125000   \n",
       "\n",
       "        ABW CHICKEN SIZE             PROVINCE  \n",
       "0  1.820827       MEDIUM  NUSA TENGGARA BARAT  \n",
       "1  2.074971        LARGE           JAWA BARAT  \n",
       "2  1.820339       MEDIUM           JAWA BARAT  \n",
       "3  2.126599        LARGE           JAWA BARAT  \n",
       "4  1.781603       MEDIUM          JAWA TENGAH  "
      ]
     },
     "execution_count": 4,
     "metadata": {},
     "output_type": "execute_result"
    }
   ],
   "source": [
    "# reading file\n",
    "df = pd.read_csv('/workspaces/forecasting/data/data.csv')\n",
    "df.head()"
   ]
  },
  {
   "cell_type": "markdown",
   "metadata": {},
   "source": [
    "# cleaning"
   ]
  },
  {
   "cell_type": "code",
   "execution_count": 5,
   "metadata": {},
   "outputs": [
    {
     "name": "stdout",
     "output_type": "stream",
     "text": [
      "20\n",
      "     DAY_DATE        UNIT  TAILS       KG  SALES PER KG       ABW  \\\n",
      "0  2017-01-01      LOMBOK   6237  11356.5   22000.00000  1.820827   \n",
      "1  2017-01-01       GARUT   2625   5446.8   17000.00000  2.074971   \n",
      "2  2017-01-01    SUMEDANG   7788  14176.8   16106.05355  1.820339   \n",
      "3  2017-01-01     CIREBON   7504  15958.0   17000.00000  2.126599   \n",
      "4  2017-01-01  PEKALONGAN   9121  16250.0   16500.00000  1.781603   \n",
      "\n",
      "  CHICKEN SIZE             PROVINCE  price_bin  \n",
      "0       MEDIUM  NUSA TENGGARA BARAT         13  \n",
      "1        LARGE           JAWA BARAT         10  \n",
      "2       MEDIUM           JAWA BARAT         10  \n",
      "3        LARGE           JAWA BARAT         10  \n",
      "4       MEDIUM          JAWA TENGAH         10  \n"
     ]
    }
   ],
   "source": [
    "# removing outlier\n",
    "df = df[df['SALES PER KG'] <= 35000]\n",
    "\n",
    "# removing 'total sales' column\n",
    "df = df.drop('TOTAL SALES', axis = 1)\n",
    "\n",
    "# creating bins for prediction\n",
    "\n",
    "# using sturges to print out the number of bins\n",
    "sturges = int(np.ceil(1 + np.log2(len(df['SALES PER KG']))))\n",
    "print(sturges)\n",
    "\n",
    "max_value = 35000\n",
    "bin_width = int((max_value - 0) // sturges)\n",
    "\n",
    "# Correctly calculate 'bin_edges'\n",
    "# Ensure 'bin_width' is added to 'max_value' to include the upper edge\n",
    "bin_edges = np.arange(0, max_value + bin_width, bin_width)\n",
    "\n",
    "# Use pd.cut to bin the data\n",
    "df['price_bin'] = pd.cut(df['SALES PER KG'], bins=bin_edges, labels=False, right=False)\n",
    "\n",
    "# Add 1 to change bins from 0-19 to 1-20\n",
    "df['price_bin'] += 1\n",
    "\n",
    "# Display the first few rows to verify\n",
    "print(df.head())\n",
    "\n",
    "# dropping sales per kg column as we already have price_bin\n",
    "df = df.drop('SALES PER KG', axis = 1)\n"
   ]
  },
  {
   "cell_type": "markdown",
   "metadata": {},
   "source": [
    "## pre processing\n",
    "- extracting date column\n",
    "- splitting, scaling\n",
    "- creating function to evaluate the model [call `results(y_test, predictions)`]\n"
   ]
  },
  {
   "cell_type": "code",
   "execution_count": 6,
   "metadata": {},
   "outputs": [],
   "source": [
    "# extracting year and month from date column for seasonality trends\n",
    "df['DAY_DATE'] = pd.to_datetime(df['DAY_DATE'], errors='coerce').dt.normalize()\n",
    "df['YEAR'] = df['DAY_DATE'].dt.year\n",
    "df['MONTH'] = df['DAY_DATE'].dt.month\n",
    "df['DAY'] = df['DAY_DATE'].dt.day\n",
    "df = df.drop('DAY_DATE', axis = 1)\n"
   ]
  },
  {
   "cell_type": "code",
   "execution_count": 7,
   "metadata": {},
   "outputs": [],
   "source": [
    "# train test split before label encoding to prevent data leakage\n",
    "\n",
    "\n",
    "X = df.drop('price_bin', axis=1)\n",
    "y = df['price_bin']\n",
    "X_train, X_test, y_train, y_test = train_test_split(X, y, test_size=0.2, random_state=42)\n",
    "\n",
    "# scaling numerical variable\n",
    "\n",
    "scaler = StandardScaler()\n",
    "columns_to_scale = ['KG', 'TAILS']\n",
    "X_train[columns_to_scale] = scaler.fit_transform(X_train[columns_to_scale])\n",
    "X_test[columns_to_scale] = scaler.transform(X_test[columns_to_scale])"
   ]
  },
  {
   "cell_type": "code",
   "execution_count": 8,
   "metadata": {},
   "outputs": [],
   "source": [
    "# creating function to evaluate the model\n",
    "def results(y_test, predictions):\n",
    "  mae = mean_absolute_error(y_test, predictions)\n",
    "  mse = mean_squared_error(y_test, predictions)\n",
    "  rmse = np.sqrt(mse)\n",
    "  r2 = r2_score(y_test, predictions)\n",
    "\n",
    "  print(f\"Mean Absolute Error (MAE): {mae}\")\n",
    "  print(f\"Mean Squared Error (MSE): {mse}\")\n",
    "  print(f\"Root Mean Squared Error (RMSE): {rmse}\")\n",
    "  print(f\"R-squared (R²): {r2}\")\n"
   ]
  },
  {
   "cell_type": "markdown",
   "metadata": {},
   "source": [
    "# lazy cat"
   ]
  },
  {
   "cell_type": "code",
   "execution_count": 9,
   "metadata": {},
   "outputs": [
    {
     "name": "stdout",
     "output_type": "stream",
     "text": [
      "Requirement already satisfied: dirty_cat in /usr/local/python/3.10.13/lib/python3.10/site-packages (0.4.1)\n",
      "Requirement already satisfied: scikit-learn>=0.23.0 in /usr/local/python/3.10.13/lib/python3.10/site-packages (from dirty_cat) (1.4.1.post1)\n",
      "Requirement already satisfied: numpy>=1.17.3 in /home/codespace/.local/lib/python3.10/site-packages (from dirty_cat) (1.26.4)\n",
      "Requirement already satisfied: scipy>=1.4.0 in /home/codespace/.local/lib/python3.10/site-packages (from dirty_cat) (1.12.0)\n",
      "Requirement already satisfied: pandas>=1.2.0 in /home/codespace/.local/lib/python3.10/site-packages (from dirty_cat) (2.2.0)\n",
      "Requirement already satisfied: requests in /home/codespace/.local/lib/python3.10/site-packages (from dirty_cat) (2.31.0)\n",
      "Requirement already satisfied: joblib in /home/codespace/.local/lib/python3.10/site-packages (from dirty_cat) (1.3.2)\n",
      "Requirement already satisfied: pyarrow in /usr/local/python/3.10.13/lib/python3.10/site-packages (from dirty_cat) (15.0.0)\n",
      "Requirement already satisfied: python-dateutil>=2.8.2 in /home/codespace/.local/lib/python3.10/site-packages (from pandas>=1.2.0->dirty_cat) (2.8.2)\n",
      "Requirement already satisfied: pytz>=2020.1 in /home/codespace/.local/lib/python3.10/site-packages (from pandas>=1.2.0->dirty_cat) (2024.1)\n",
      "Requirement already satisfied: tzdata>=2022.7 in /home/codespace/.local/lib/python3.10/site-packages (from pandas>=1.2.0->dirty_cat) (2023.4)\n",
      "Requirement already satisfied: threadpoolctl>=2.0.0 in /home/codespace/.local/lib/python3.10/site-packages (from scikit-learn>=0.23.0->dirty_cat) (3.2.0)\n",
      "Requirement already satisfied: charset-normalizer<4,>=2 in /home/codespace/.local/lib/python3.10/site-packages (from requests->dirty_cat) (3.3.2)\n",
      "Requirement already satisfied: idna<4,>=2.5 in /home/codespace/.local/lib/python3.10/site-packages (from requests->dirty_cat) (3.6)\n",
      "Requirement already satisfied: urllib3<3,>=1.21.1 in /usr/local/python/3.10.13/lib/python3.10/site-packages (from requests->dirty_cat) (2.0.7)\n",
      "Requirement already satisfied: certifi>=2017.4.17 in /home/codespace/.local/lib/python3.10/site-packages (from requests->dirty_cat) (2024.2.2)\n",
      "Requirement already satisfied: six>=1.5 in /home/codespace/.local/lib/python3.10/site-packages (from python-dateutil>=2.8.2->pandas>=1.2.0->dirty_cat) (1.16.0)\n"
     ]
    }
   ],
   "source": [
    "!pip install dirty_cat\n",
    "from dirty_cat import SuperVectorizer\n"
   ]
  },
  {
   "cell_type": "code",
   "execution_count": 10,
   "metadata": {},
   "outputs": [
    {
     "name": "stderr",
     "output_type": "stream",
     "text": [
      "/home/codespace/.python/current/lib/python3.10/site-packages/sklearn/utils/deprecation.py:66: FutureWarning: Class SuperVectorizer is deprecated; use TableVectorizer instead.\n",
      "  warnings.warn(msg, category=FutureWarning)\n"
     ]
    }
   ],
   "source": [
    "super_encoder = SuperVectorizer(auto_cast=True)\n",
    "X_train_encoded = super_encoder.fit_transform(X_train)\n",
    "X_test_encoded = super_encoder.transform(X_test)"
   ]
  },
  {
   "cell_type": "code",
   "execution_count": 13,
   "metadata": {},
   "outputs": [
    {
     "data": {
      "text/plain": [
       "array([[0.000e+00, 0.000e+00, 1.000e+00, ..., 2.021e+03, 1.000e+01,\n",
       "        3.000e+01],\n",
       "       [0.000e+00, 0.000e+00, 1.000e+00, ..., 2.019e+03, 4.000e+00,\n",
       "        1.200e+01],\n",
       "       [0.000e+00, 0.000e+00, 1.000e+00, ..., 2.022e+03, 2.000e+00,\n",
       "        1.500e+01],\n",
       "       ...,\n",
       "       [0.000e+00, 0.000e+00, 1.000e+00, ..., 2.019e+03, 5.000e+00,\n",
       "        1.600e+01],\n",
       "       [0.000e+00, 0.000e+00, 1.000e+00, ..., 2.019e+03, 8.000e+00,\n",
       "        1.600e+01],\n",
       "       [0.000e+00, 0.000e+00, 1.000e+00, ..., 2.019e+03, 3.000e+00,\n",
       "        1.700e+01]])"
      ]
     },
     "execution_count": 13,
     "metadata": {},
     "output_type": "execute_result"
    }
   ],
   "source": [
    "X_train_encoded"
   ]
  },
  {
   "cell_type": "markdown",
   "metadata": {},
   "source": [
    "# encoding"
   ]
  },
  {
   "cell_type": "code",
   "execution_count": 53,
   "metadata": {},
   "outputs": [],
   "source": [
    "# encoding of columns\n",
    "# label encoding for province\n",
    "\n",
    "label_encoder = LabelEncoder()\n",
    "X_train['SIZE ENCODE'] = label_encoder.fit_transform(X_train['CHICKEN SIZE'])\n",
    "X_test['SIZE ENCODE'] = label_encoder.transform(X_test['CHICKEN SIZE'])\n",
    "\n",
    "# dropping chicken size column\n",
    "X_train = X_train.drop(['CHICKEN SIZE'], axis = 1)\n",
    "X_test = X_test.drop(['CHICKEN SIZE'], axis = 1)\n",
    "\n",
    "\n",
    "# one hot encoding for province\n",
    "\n",
    "encoder = OneHotEncoder(handle_unknown='ignore')\n",
    "encoder.fit(X_train[['PROVINCE']])\n",
    "X_train_encoded = encoder.transform(X_train[['PROVINCE']])\n",
    "X_test_encoded = encoder.transform(X_test[['PROVINCE']])\n",
    "\n",
    "# Convert the encoded matrices back to dataframes for easier manipulation\n",
    "columns = encoder.get_feature_names_out(['PROVINCE'])\n",
    "X_train_encoded_df = pd.DataFrame(X_train_encoded.toarray(), columns=columns, index=X_train.index)\n",
    "X_test_encoded_df = pd.DataFrame(X_test_encoded.toarray(), columns=columns, index=X_test.index)\n",
    "\n",
    "# merge back the dataframe\n",
    "X_train = pd.concat([X_train.drop('PROVINCE', axis=1), X_train_encoded_df], axis=1)\n",
    "X_test = pd.concat([X_test.drop('PROVINCE', axis=1), X_test_encoded_df], axis=1)\n",
    "\n",
    "\n",
    "# one hot encoding for unit\n",
    "encoder = OneHotEncoder(handle_unknown='ignore')\n",
    "encoder.fit(X_train[['UNIT']])\n",
    "X_train_encoded_unit = encoder.transform(X_train[['UNIT']])\n",
    "X_test_encoded_unit = encoder.transform(X_test[['UNIT']])\n",
    "\n",
    "# Convert the encoded matrices back to dataframes for easier manipulation\n",
    "columns = encoder.get_feature_names_out(['UNIT'])\n",
    "X_train_encoded_df_unit = pd.DataFrame(X_train_encoded_unit.toarray(), columns=columns, index=X_train.index)\n",
    "X_test_encoded_df_unit = pd.DataFrame(X_test_encoded_unit.toarray(), columns=columns, index=X_test.index)\n",
    "\n",
    "# merge back the dataframe, dropping unit column\n",
    "X_train = pd.concat([X_train.drop('UNIT', axis=1), X_train_encoded_df_unit], axis=1)\n",
    "X_test = pd.concat([X_test.drop('UNIT', axis=1), X_test_encoded_df_unit], axis=1)\n",
    "\n",
    "\n"
   ]
  },
  {
   "cell_type": "code",
   "execution_count": 56,
   "metadata": {},
   "outputs": [
    {
     "data": {
      "text/plain": [
       "Index(['TAILS', 'KG', 'ABW', 'YEAR', 'MONTH', 'DAY', 'SIZE ENCODE',\n",
       "       'PROVINCE_ACEH', 'PROVINCE_BALI', 'PROVINCE_BANTEN',\n",
       "       ...\n",
       "       'UNIT_TASIKMALAYA', 'UNIT_TEBING TINGGI', 'UNIT_TEGAL',\n",
       "       'UNIT_TEMANGGUNG', 'UNIT_TULANG BAWANG', 'UNIT_TULUNGAGUNG',\n",
       "       'UNIT_UNGARAN', 'UNIT_WABIN', 'UNIT_WONOGIRI', 'UNIT_YOGYAKARTA'],\n",
       "      dtype='object', length=164)"
      ]
     },
     "execution_count": 56,
     "metadata": {},
     "output_type": "execute_result"
    }
   ],
   "source": [
    "X_train.columns"
   ]
  },
  {
   "cell_type": "markdown",
   "metadata": {},
   "source": [
    "# trying lazy predict"
   ]
  },
  {
   "cell_type": "code",
   "execution_count": 55,
   "metadata": {},
   "outputs": [
    {
     "name": "stdout",
     "output_type": "stream",
     "text": [
      "Requirement already satisfied: lazypredict-nightly in /usr/local/python/3.10.13/lib/python3.10/site-packages (0.3.0)\n",
      "Requirement already satisfied: click in /usr/local/python/3.10.13/lib/python3.10/site-packages (from lazypredict-nightly) (8.1.7)\n",
      "Requirement already satisfied: scikit-learn in /usr/local/python/3.10.13/lib/python3.10/site-packages (from lazypredict-nightly) (1.4.1.post1)\n",
      "Requirement already satisfied: pandas in /home/codespace/.local/lib/python3.10/site-packages (from lazypredict-nightly) (2.2.0)\n",
      "Requirement already satisfied: tqdm in /usr/local/python/3.10.13/lib/python3.10/site-packages (from lazypredict-nightly) (4.66.2)\n",
      "Requirement already satisfied: joblib in /home/codespace/.local/lib/python3.10/site-packages (from lazypredict-nightly) (1.3.2)\n",
      "Requirement already satisfied: lightgbm in /usr/local/python/3.10.13/lib/python3.10/site-packages (from lazypredict-nightly) (4.3.0)\n",
      "Requirement already satisfied: xgboost in /usr/local/python/3.10.13/lib/python3.10/site-packages (from lazypredict-nightly) (2.0.3)\n",
      "Requirement already satisfied: numpy in /home/codespace/.local/lib/python3.10/site-packages (from lightgbm->lazypredict-nightly) (1.26.4)\n",
      "Requirement already satisfied: scipy in /home/codespace/.local/lib/python3.10/site-packages (from lightgbm->lazypredict-nightly) (1.12.0)\n",
      "Requirement already satisfied: python-dateutil>=2.8.2 in /home/codespace/.local/lib/python3.10/site-packages (from pandas->lazypredict-nightly) (2.8.2)\n",
      "Requirement already satisfied: pytz>=2020.1 in /home/codespace/.local/lib/python3.10/site-packages (from pandas->lazypredict-nightly) (2024.1)\n",
      "Requirement already satisfied: tzdata>=2022.7 in /home/codespace/.local/lib/python3.10/site-packages (from pandas->lazypredict-nightly) (2023.4)\n",
      "Requirement already satisfied: threadpoolctl>=2.0.0 in /home/codespace/.local/lib/python3.10/site-packages (from scikit-learn->lazypredict-nightly) (3.2.0)\n",
      "Requirement already satisfied: six>=1.5 in /home/codespace/.local/lib/python3.10/site-packages (from python-dateutil>=2.8.2->pandas->lazypredict-nightly) (1.16.0)\n",
      "^C\n",
      "\u001b[31mERROR: Operation cancelled by user\u001b[0m\u001b[31m\n",
      "\u001b[0mNote: you may need to restart the kernel to use updated packages.\n"
     ]
    }
   ],
   "source": [
    "pip install lazypredict-nightly"
   ]
  },
  {
   "cell_type": "code",
   "execution_count": 14,
   "metadata": {},
   "outputs": [],
   "source": [
    "# libraries\n",
    "import lazypredict\n",
    "from lazypredict.Supervised import LazyRegressor\n"
   ]
  },
  {
   "cell_type": "code",
   "execution_count": 15,
   "metadata": {},
   "outputs": [
    {
     "name": "stderr",
     "output_type": "stream",
     "text": [
      "  0%|          | 0/42 [00:00<?, ?it/s]"
     ]
    },
    {
     "name": "stderr",
     "output_type": "stream",
     "text": [
      "  2%|▏         | 1/42 [00:12<08:39, 12.68s/it]"
     ]
    },
    {
     "name": "stdout",
     "output_type": "stream",
     "text": [
      "{'Model': 'AdaBoostRegressor', 'R-Squared': 0.1541600505980727, 'Adjusted R-Squared': 0.15406063228638012, 'RMSE': 1.7452790101184326, 'Time taken': 12.682361841201782}\n"
     ]
    },
    {
     "name": "stderr",
     "output_type": "stream",
     "text": [
      "  5%|▍         | 2/42 [00:28<09:45, 14.63s/it]"
     ]
    },
    {
     "name": "stdout",
     "output_type": "stream",
     "text": [
      "{'Model': 'BaggingRegressor', 'R-Squared': 0.8469774129283023, 'Adjusted R-Squared': 0.8469594269638556, 'RMSE': 0.7423326098238878, 'Time taken': 15.985158681869507}\n"
     ]
    },
    {
     "name": "stderr",
     "output_type": "stream",
     "text": [
      "  7%|▋         | 3/42 [00:29<05:18,  8.17s/it]"
     ]
    },
    {
     "name": "stdout",
     "output_type": "stream",
     "text": [
      "{'Model': 'BayesianRidge', 'R-Squared': 0.08775391813411848, 'Adjusted R-Squared': 0.08764669458033458, 'RMSE': 1.8124948129081688, 'Time taken': 0.48565149307250977}\n"
     ]
    },
    {
     "name": "stderr",
     "output_type": "stream",
     "text": [
      " 10%|▉         | 4/42 [00:31<03:49,  6.03s/it]"
     ]
    },
    {
     "name": "stdout",
     "output_type": "stream",
     "text": [
      "{'Model': 'DecisionTreeRegressor', 'R-Squared': 0.7273477628349609, 'Adjusted R-Squared': 0.7273157158441357, 'RMSE': 0.9908896718778214, 'Time taken': 2.7548534870147705}\n"
     ]
    },
    {
     "name": "stderr",
     "output_type": "stream",
     "text": [
      " 12%|█▏        | 5/42 [00:32<02:26,  3.96s/it]"
     ]
    },
    {
     "name": "stdout",
     "output_type": "stream",
     "text": [
      "{'Model': 'DummyRegressor', 'R-Squared': -1.4372201842416388e-05, 'Adjusted R-Squared': -0.00013191186241634512, 'RMSE': 1.897683973457693, 'Time taken': 0.28624987602233887}\n"
     ]
    },
    {
     "name": "stderr",
     "output_type": "stream",
     "text": [
      " 14%|█▍        | 6/42 [00:32<01:38,  2.73s/it]"
     ]
    },
    {
     "name": "stdout",
     "output_type": "stream",
     "text": [
      "{'Model': 'ElasticNet', 'R-Squared': 0.005909837394221906, 'Adjusted R-Squared': 0.005792994053225309, 'RMSE': 1.8920545657291967, 'Time taken': 0.35145020484924316}\n"
     ]
    },
    {
     "name": "stderr",
     "output_type": "stream",
     "text": [
      " 17%|█▋        | 7/42 [00:34<01:23,  2.40s/it]"
     ]
    },
    {
     "name": "stdout",
     "output_type": "stream",
     "text": [
      "{'Model': 'ElasticNetCV', 'R-Squared': 0.0864098061593711, 'Adjusted R-Squared': 0.08630242462139248, 'RMSE': 1.8138295948889152, 'Time taken': 1.7068915367126465}\n"
     ]
    },
    {
     "name": "stderr",
     "output_type": "stream",
     "text": [
      " 19%|█▉        | 8/42 [00:35<01:04,  1.91s/it]"
     ]
    },
    {
     "name": "stdout",
     "output_type": "stream",
     "text": [
      "{'Model': 'ExtraTreeRegressor', 'R-Squared': 0.6874354959119426, 'Adjusted R-Squared': 0.6873987577142334, 'RMSE': 1.0609394468542903, 'Time taken': 0.8674163818359375}\n"
     ]
    },
    {
     "name": "stderr",
     "output_type": "stream",
     "text": [
      " 21%|██▏       | 9/42 [01:29<10:00, 18.19s/it]"
     ]
    },
    {
     "name": "stdout",
     "output_type": "stream",
     "text": [
      "{'Model': 'ExtraTreesRegressor', 'R-Squared': 0.871928720884948, 'Adjusted R-Squared': 0.8719136676466197, 'RMSE': 0.6791201907070983, 'Time taken': 53.99558091163635}\n"
     ]
    },
    {
     "name": "stderr",
     "output_type": "stream",
     "text": [
      " 24%|██▍       | 10/42 [01:30<06:52, 12.89s/it]"
     ]
    },
    {
     "name": "stdout",
     "output_type": "stream",
     "text": [
      "{'Model': 'GammaRegressor', 'R-Squared': 0.05963005741664007, 'Adjusted R-Squared': 0.05951952824132245, 'RMSE': 1.840221661638211, 'Time taken': 0.9980003833770752}\n"
     ]
    },
    {
     "name": "stderr",
     "output_type": "stream",
     "text": [
      " 29%|██▊       | 12/42 [02:24<11:26, 22.88s/it]"
     ]
    },
    {
     "name": "stdout",
     "output_type": "stream",
     "text": [
      "{'Model': 'GradientBoostingRegressor', 'R-Squared': 0.40459407146713644, 'Adjusted R-Squared': 0.4045240886621999, 'RMSE': 1.464290842379499, 'Time taken': 54.560240030288696}\n"
     ]
    },
    {
     "name": "stderr",
     "output_type": "stream",
     "text": [
      " 31%|███       | 13/42 [02:27<08:03, 16.69s/it]"
     ]
    },
    {
     "name": "stdout",
     "output_type": "stream",
     "text": [
      "{'Model': 'HistGradientBoostingRegressor', 'R-Squared': 0.6616713828645566, 'Adjusted R-Squared': 0.6616316164052676, 'RMSE': 1.1037993546500489, 'Time taken': 2.4348886013031006}\n"
     ]
    },
    {
     "name": "stderr",
     "output_type": "stream",
     "text": [
      " 33%|███▎      | 14/42 [02:31<05:57, 12.78s/it]"
     ]
    },
    {
     "name": "stdout",
     "output_type": "stream",
     "text": [
      "{'Model': 'HuberRegressor', 'R-Squared': 0.07550612126989331, 'Adjusted R-Squared': 0.07539745813491316, 'RMSE': 1.8246215042158225, 'Time taken': 3.759575843811035}\n"
     ]
    },
    {
     "name": "stderr",
     "output_type": "stream",
     "text": [
      " 36%|███▌      | 15/42 [02:35<04:39, 10.34s/it]"
     ]
    },
    {
     "name": "stdout",
     "output_type": "stream",
     "text": [
      "{'Model': 'KNeighborsRegressor', 'R-Squared': 0.536081449734642, 'Adjusted R-Squared': 0.5360269216893979, 'RMSE': 1.2925329949140412, 'Time taken': 4.683312892913818}\n"
     ]
    },
    {
     "name": "stderr",
     "output_type": "stream",
     "text": [
      " 40%|████      | 17/42 [02:36<02:10,  5.21s/it]"
     ]
    },
    {
     "name": "stdout",
     "output_type": "stream",
     "text": [
      "{'Model': 'Lars', 'R-Squared': 0.087754637404163, 'Adjusted R-Squared': 0.08764741393492059, 'RMSE': 1.8124940983677023, 'Time taken': 0.3463747501373291}\n"
     ]
    },
    {
     "name": "stderr",
     "output_type": "stream",
     "text": [
      " 43%|████▎     | 18/42 [02:37<01:32,  3.84s/it]"
     ]
    },
    {
     "name": "stdout",
     "output_type": "stream",
     "text": [
      "{'Model': 'LarsCV', 'R-Squared': 0.087754637404163, 'Adjusted R-Squared': 0.08764741393492059, 'RMSE': 1.8124940983677023, 'Time taken': 0.6607532501220703}\n"
     ]
    },
    {
     "name": "stderr",
     "output_type": "stream",
     "text": [
      " 45%|████▌     | 19/42 [02:37<01:04,  2.82s/it]"
     ]
    },
    {
     "name": "stdout",
     "output_type": "stream",
     "text": [
      "{'Model': 'Lasso', 'R-Squared': 0.0017786302473409288, 'Adjusted R-Squared': 0.0016613013326373105, 'RMSE': 1.8959819586418318, 'Time taken': 0.4327569007873535}\n"
     ]
    },
    {
     "name": "stderr",
     "output_type": "stream",
     "text": [
      " 48%|████▊     | 20/42 [02:39<00:54,  2.48s/it]"
     ]
    },
    {
     "name": "stdout",
     "output_type": "stream",
     "text": [
      "{'Model': 'LassoCV', 'R-Squared': 0.0869700631759891, 'Adjusted R-Squared': 0.08686274748948364, 'RMSE': 1.8132733462506656, 'Time taken': 1.6842398643493652}\n"
     ]
    },
    {
     "name": "stderr",
     "output_type": "stream",
     "text": [
      " 50%|█████     | 21/42 [02:39<00:38,  1.85s/it]"
     ]
    },
    {
     "name": "stdout",
     "output_type": "stream",
     "text": [
      "{'Model': 'LassoLars', 'R-Squared': 0.0017786302473409288, 'Adjusted R-Squared': 0.0016613013326373105, 'RMSE': 1.8959819586418318, 'Time taken': 0.3941354751586914}\n"
     ]
    },
    {
     "name": "stderr",
     "output_type": "stream",
     "text": [
      " 52%|█████▏    | 22/42 [02:40<00:29,  1.50s/it]"
     ]
    },
    {
     "name": "stdout",
     "output_type": "stream",
     "text": [
      "{'Model': 'LassoLarsCV', 'R-Squared': 0.087754637404163, 'Adjusted R-Squared': 0.08764741393492059, 'RMSE': 1.8124940983677023, 'Time taken': 0.6667523384094238}\n"
     ]
    },
    {
     "name": "stderr",
     "output_type": "stream",
     "text": [
      " 55%|█████▍    | 23/42 [02:40<00:22,  1.19s/it]"
     ]
    },
    {
     "name": "stdout",
     "output_type": "stream",
     "text": [
      "{'Model': 'LassoLarsIC', 'R-Squared': 0.087754637404163, 'Adjusted R-Squared': 0.08764741393492059, 'RMSE': 1.8124940983677023, 'Time taken': 0.4660615921020508}\n"
     ]
    },
    {
     "name": "stderr",
     "output_type": "stream",
     "text": [
      " 57%|█████▋    | 24/42 [02:41<00:17,  1.05it/s]"
     ]
    },
    {
     "name": "stdout",
     "output_type": "stream",
     "text": [
      "{'Model': 'LinearRegression', 'R-Squared': 0.08775463740416312, 'Adjusted R-Squared': 0.0876474139349207, 'RMSE': 1.812494098367702, 'Time taken': 0.4091050624847412}\n"
     ]
    },
    {
     "name": "stderr",
     "output_type": "stream",
     "text": [
      " 60%|█████▉    | 25/42 [03:32<04:33, 16.09s/it]"
     ]
    },
    {
     "name": "stdout",
     "output_type": "stream",
     "text": [
      "{'Model': 'LinearSVR', 'R-Squared': 0.07914069417129699, 'Adjusted R-Squared': 0.07903245823664218, 'RMSE': 1.8210312961631099, 'Time taken': 51.4101722240448}\n"
     ]
    },
    {
     "name": "stderr",
     "output_type": "stream",
     "text": [
      " 62%|██████▏   | 26/42 [06:53<19:02, 71.42s/it]"
     ]
    },
    {
     "name": "stdout",
     "output_type": "stream",
     "text": [
      "{'Model': 'MLPRegressor', 'R-Squared': 0.42493648786933724, 'Adjusted R-Squared': 0.42486889607075584, 'RMSE': 1.4390592493675831, 'Time taken': 200.5052525997162}\n"
     ]
    }
   ],
   "source": [
    "# initialising regressor\n",
    "reg = LazyRegressor(verbose=10, ignore_warnings=True, custom_metric=None)\n",
    "\n",
    "# fitting and evaluate models\n",
    "models, predictions = reg.fit(X_train, X_test, y_train, y_test)\n",
    "top5_models = models.sort_values(by='R-Squared', ascending = False).head(5)\n",
    "print(top5_models)"
   ]
  },
  {
   "cell_type": "markdown",
   "metadata": {},
   "source": [
    "'ExtraTreesRegressor', \n",
    "'BaggingRegressor', \n"
   ]
  },
  {
   "cell_type": "markdown",
   "metadata": {},
   "source": []
  }
 ],
 "metadata": {
  "kernelspec": {
   "display_name": "Python 3",
   "language": "python",
   "name": "python3"
  },
  "language_info": {
   "codemirror_mode": {
    "name": "ipython",
    "version": 3
   },
   "file_extension": ".py",
   "mimetype": "text/x-python",
   "name": "python",
   "nbconvert_exporter": "python",
   "pygments_lexer": "ipython3",
   "version": "3.10.13"
  }
 },
 "nbformat": 4,
 "nbformat_minor": 2
}
